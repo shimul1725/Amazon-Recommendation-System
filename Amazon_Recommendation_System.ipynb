{
  "nbformat": 4,
  "nbformat_minor": 0,
  "metadata": {
    "colab": {
      "provenance": [],
      "authorship_tag": "ABX9TyMqGYawsZy/M+KLBAdNEM5h",
      "include_colab_link": true
    },
    "kernelspec": {
      "name": "python3",
      "display_name": "Python 3"
    },
    "language_info": {
      "name": "python"
    }
  },
  "cells": [
    {
      "cell_type": "markdown",
      "metadata": {
        "id": "view-in-github",
        "colab_type": "text"
      },
      "source": [
        "<a href=\"https://colab.research.google.com/github/shimul1725/Amazon-Recommendation-System/blob/main/Amazon_Recommendation_System.ipynb\" target=\"_parent\"><img src=\"https://colab.research.google.com/assets/colab-badge.svg\" alt=\"Open In Colab\"/></a>"
      ]
    },
    {
      "cell_type": "code",
      "execution_count": 8,
      "metadata": {
        "colab": {
          "base_uri": "https://localhost:8080/"
        },
        "id": "mv8BxyNQSLi8",
        "outputId": "3425c11c-c020-43ea-c209-c68eb96e99b9"
      },
      "outputs": [
        {
          "output_type": "stream",
          "name": "stdout",
          "text": [
            "    AKM1MP6P0OYPR  0132793040  5.0  1365811200\n",
            "0  A2CX7LUOHB2NDG  0321732944  5.0  1341100800\n",
            "1  A2NWSAGRHCP8N5  0439886341  1.0  1367193600\n",
            "2  A2WNBOD3WNDNKT  0439886341  3.0  1374451200\n",
            "3  A1GI0U4ZRJA8WN  0439886341  1.0  1334707200\n",
            "4  A1QGNMC6O1VW39  0511189877  5.0  1397433600\n"
          ]
        }
      ],
      "source": [
        "import numpy as np\n",
        "import pandas as pd\n",
        "\n",
        "data = pd.read_csv(\"ratings_Electronics .csv\")\n",
        "print(data.head())"
      ]
    },
    {
      "cell_type": "code",
      "source": [
        "data.columns = ['user_id', 'product_id','ratings','timestamp']"
      ],
      "metadata": {
        "id": "x1U6ymdLB-G1"
      },
      "execution_count": 9,
      "outputs": []
    },
    {
      "cell_type": "code",
      "source": [
        "#This dataset is very large so I will select a sample:\n",
        "df = data[:int(len(data) * .1)]"
      ],
      "metadata": {
        "id": "TlMpFITiCDyk"
      },
      "execution_count": 11,
      "outputs": []
    },
    {
      "cell_type": "code",
      "source": [
        "#Now let’s prepare the dataset for creating a recommendation system:\n",
        "counts = df['user_id'].value_counts()\n",
        "data = df[df['user_id'].isin(counts[counts >= 50].index)]\n",
        "data.groupby('product_id')['ratings'].mean().sort_values(ascending=False)\n",
        "final_ratings = data.pivot(index = 'user_id', columns ='product_id', values = 'ratings').fillna(0)\n",
        "\n",
        "num_of_ratings = np.count_nonzero(final_ratings)\n",
        "possible_ratings = final_ratings.shape[0] * final_ratings.shape[1]\n",
        "density = (num_of_ratings/possible_ratings)\n",
        "density *= 100\n",
        "final_ratings_T = final_ratings.transpose()\n",
        "\n",
        "grouped = data.groupby('product_id').agg({'user_id': 'count'}).reset_index()\n",
        "grouped.rename(columns = {'user_id': 'score'},inplace=True)\n",
        "training_data = grouped.sort_values(['score', 'product_id'], ascending = [0,1])\n",
        "training_data['Rank'] = training_data['score'].rank(ascending=0, method='first')\n",
        "recommendations = training_data.head()"
      ],
      "metadata": {
        "id": "rKvqNy7ZDhB0"
      },
      "execution_count": 12,
      "outputs": []
    },
    {
      "cell_type": "code",
      "source": [
        "#I will write a Python function to generate recommendations based on the score of the product reviews:\n",
        "\n",
        "def recommend(id):\n",
        "    recommend_products = recommendations\n",
        "    recommend_products['user_id'] = id\n",
        "    column = recommend_products.columns.tolist()\n",
        "    column = column[-1:] + column[:-1]\n",
        "    recommend_products = recommend_products[column]\n",
        "    return recommend_products\n",
        "\n",
        "print(recommend(11))"
      ],
      "metadata": {
        "colab": {
          "base_uri": "https://localhost:8080/"
        },
        "id": "afxwR7vcDrXc",
        "outputId": "2b8f0e9e-49b2-4310-9068-0fe160562dfa"
      },
      "execution_count": 13,
      "outputs": [
        {
          "output_type": "stream",
          "name": "stdout",
          "text": [
            "      user_id  product_id  score  Rank\n",
            "113        11  B00004SB92      6   1.0\n",
            "1099       11  B00008OE6I      5   2.0\n",
            "368        11  B00005AW1H      4   3.0\n",
            "612        11  B0000645C9      4   4.0\n",
            "976        11  B00007KDVI      4   5.0\n"
          ]
        },
        {
          "output_type": "stream",
          "name": "stderr",
          "text": [
            "<ipython-input-13-b576a62b3370>:5: SettingWithCopyWarning: \n",
            "A value is trying to be set on a copy of a slice from a DataFrame.\n",
            "Try using .loc[row_indexer,col_indexer] = value instead\n",
            "\n",
            "See the caveats in the documentation: https://pandas.pydata.org/pandas-docs/stable/user_guide/indexing.html#returning-a-view-versus-a-copy\n",
            "  recommend_products['user_id'] = id\n"
          ]
        }
      ]
    }
  ]
}